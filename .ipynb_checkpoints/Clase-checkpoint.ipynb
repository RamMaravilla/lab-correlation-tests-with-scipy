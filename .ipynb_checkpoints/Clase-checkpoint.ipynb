{
 "cells": [
  {
   "cell_type": "markdown",
   "metadata": {},
   "source": [
    "# ANOVA"
   ]
  },
  {
   "cell_type": "code",
   "execution_count": 3,
   "metadata": {},
   "outputs": [],
   "source": [
    "#Anova. Mide la varianza interna y la varianza externa entre las muestras.\n",
    "\n",
    "#Se utiliza para más de dos muestras"
   ]
  },
  {
   "cell_type": "code",
   "execution_count": null,
   "metadata": {},
   "outputs": [],
   "source": [
    "#La hipótesis nula es que la media y varianza y std de cada muestra es igual u1 = u2 = u3\n",
    "#La hipótesis alternativa es que no son iguales."
   ]
  },
  {
   "cell_type": "code",
   "execution_count": 6,
   "metadata": {},
   "outputs": [],
   "source": [
    "#Variance Between es colocar las muestras como si estuvieran dentro de la población y comparamos la varianza de cada\n",
    "#una con la de la población. Se prueba que haya un comportamiento similar entre las varianzas, medias y std de las\n",
    "#muestras con las de la población"
   ]
  },
  {
   "cell_type": "code",
   "execution_count": null,
   "metadata": {},
   "outputs": [],
   "source": [
    "#Para que funcione las distribuciones deben ser normales. Porque si no, la media de la población cambia\n",
    "#Si se cree que no, entonces se tiene que normalizar. \n",
    "#Para que funcione se tienen que poner en la misma escala. Logaritmos o porcentajes."
   ]
  },
  {
   "cell_type": "code",
   "execution_count": 4,
   "metadata": {},
   "outputs": [],
   "source": [
    "#Variance Around \n",
    "#Varianza contra sí mismas. Varianza común de cada una de las muestras."
   ]
  },
  {
   "cell_type": "code",
   "execution_count": 5,
   "metadata": {},
   "outputs": [],
   "source": [
    "#ANOVA = Varianza between / variance around. Va entre 0 y 1. Si el ANOVA es mayor a 1 entonces se descarta la hipótesis\n",
    "#nula y las muestras no son de la misma población (o que no tienen relación)"
   ]
  },
  {
   "cell_type": "code",
   "execution_count": 7,
   "metadata": {},
   "outputs": [],
   "source": [
    "#lA ANOVA ES LA RAZÓN ENTRE LA MULTIPLICACIÓN DE LA DIFERENCIA DE LA MEDIA DE CADA MUESTRA Y LA MEDIA POBLACIÓN Y LA \n",
    "#MULTIPLICACIÓN DE LAS VARIANZAS DE CADA POBLACIÓN. "
   ]
  },
  {
   "cell_type": "code",
   "execution_count": null,
   "metadata": {},
   "outputs": [],
   "source": [
    "#Si la varianza between es mucho más grande que la varianza around, se rechaza la Ho (PORQUE EL COCIENTE VA A \n",
    "#REBASAR EL 1)\n",
    "\n",
    "#Si el cociente es igual a 1, aceptamos a H0\n",
    "\n",
    "#Si el cociente es pequeño (varianza aroud es denominador grande) entonces aceptamos H1. "
   ]
  }
 ],
 "metadata": {
  "kernelspec": {
   "display_name": "Python 3",
   "language": "python",
   "name": "python3"
  },
  "language_info": {
   "codemirror_mode": {
    "name": "ipython",
    "version": 3
   },
   "file_extension": ".py",
   "mimetype": "text/x-python",
   "name": "python",
   "nbconvert_exporter": "python",
   "pygments_lexer": "ipython3",
   "version": "3.7.3"
  }
 },
 "nbformat": 4,
 "nbformat_minor": 2
}
